{
 "cells": [
  {
   "cell_type": "markdown",
   "metadata": {},
   "source": [
    "# Alchemy API exercise\n",
    "\n",
    "- Team: [CognitiveBuild-TW](https://apps.na.collabserv.com/communities/service/html/communitystart?communityUuid=8e4d5ccf-5360-452b-8436-2fc1e649c348)\n",
    "- Author: Jesse Wei\n",
    "- Date: 2016/06/19\n",
    "\n",
    "\n",
    "<style>\n",
    "pre {\n",
    "    background-color: #f5f5f5;\n",
    "}\n",
    ".highlight {\n",
    "    background: #f8f8f8;\n",
    "}\n",
    "</style>\n",
    "\n",
    "## Alchemy Language\n",
    "This is part of AlchemyAPI, other family member include Speech, Vision, and Data Insights.\n",
    "\n",
    "### Scope\n",
    "\n",
    "* [Keyword Extraction](http://www.alchemyapi.com/api/keyword-extraction) : Returns a list of topic keywords from the document\n",
    "* [Relation Extraction](http://www.alchemyapi.com/api/relation-extraction) : Identifies Subject-Action-Object relations in the text\n",
    "* Others..\n",
    "\n",
    "\n",
    "### API Reference:\n",
    "API 相關參考文件\n",
    "\n",
    "* [Alchemy@Bluemix](https://console.ng.bluemix.net/catalog/services/alchemyapi/)\n",
    "* [API doc](https://www.alchemyapi.com/api/keyword/htmlc.html), [API dev Doc](https://www.ibm.com/smarterplanet/us/en/ibmwatson/developercloud/alchemy-language/api/v1/?node#keywords)\n",
    "* [Demo](http://www.alchemyapi.com/products/demo/alchemylanguage)\n",
    "* [SDK](https://github.com/watson-developer-cloud?utf8=%E2%9C%93&query=sdk): [Python](https://github.com/watson-developer-cloud/python-sdk), [Node.js](https://github.com/watson-developer-cloud/node-sdk)\n",
    "* **[This.API](https://github.com/watson-developer-cloud/python-sdk/blob/master/examples/alchemy_language_v1.py)**\n",
    "\n",
    "### This Notebook Resource: \n",
    "和本篇Notebook 有關的資源\n",
    "\n",
    "* [Community](https://apps.na.collabserv.com/communities/service/html/communitystart?communityUuid=8e4d5ccf-5360-452b-8436-2fc1e649c348)\n",
    "* [Docker](https://hub.docker.com/r/jessewei/jupyter_nodejs/)\n",
    "* Python learn[@Codecaemy](https://www.codecademy.com/learn/python),[@learnpython](http://www.learnpython.org/)\n",
    "* [Python Cheatsheet](http://www.astro.up.pt/~sousasag/Python_For_Astronomers/Python_qr.pdf)\n",
    "* [Markdown](https://help.github.com/articles/basic-writing-and-formatting-syntax/)\n",
    "* [FB Messager bot](http://tsaprailis.com/2016/06/02/How-to-build-and-deploy-a-Facebook-Messenger-bot-with-Python-and-Flask-a-tutorial)\n",
    "\n",
    "\n",
    "### Q&A \n",
    "\n",
    "- Update: Source from example have minor changed from 3.x -> 2.7 for this engine\n",
    "\n",
    "\n",
    "SYNTAX|3.x|2.7\n",
    "---|---|---\n",
    "print function/statement|print(x)|print x or print(x)\n",
    "keyword argument|relations(max_items=5, url=url)|relations(5, url)\n",
    "\n",
    "\n",
    "- Q: **Keyword API** issue, return status ok, but empty keyword list why?\n",
    "    - ANS: Parameter in examples, max_items=5, is not work. Fixed as below sample.\n",
    "- Q: Is the  tasklist@markdown not working on jupyter 3.1.0?\n",
    "    - ANS: No, test fail\n",
    "- Q: Is **Keyword API** support Chinese ?\n",
    "    - ANS: No, Only for English, German, French, Italian, Portuguese, Russian, Spanish and Swedish. [Ref to doc](https://www.ibm.com/smarterplanet/us/en/ibmwatson/developercloud/doc/alchemylanguage/)\n",
    "- Q: Is **Relation API** support Chinese ?\n",
    "    - ANS: No, test fail"
   ]
  },
  {
   "cell_type": "markdown",
   "metadata": {},
   "source": [
    "### Exercise purpose and procedure\n",
    "1. Change to your apikey, replace the myAPIkey and myURL to yours\n",
    "2. Follow steps to run and review\n",
    "3. Checkout API doc, write ourown samples\n",
    "4. Review visual output\n",
    "5. Build application, a library for Facebook Messager robot?"
   ]
  },
  {
   "cell_type": "code",
   "execution_count": 1,
   "metadata": {
    "collapsed": true
   },
   "outputs": [],
   "source": [
    "# DEMO Program Entry Point\n",
    "# 1. Change to your apikey\n",
    "\n",
    "import json\n",
    "from os.path import join, dirname\n",
    "from watson_developer_cloud import AlchemyLanguageV1\n",
    "\n",
    "#''\n",
    "myAPIkey = 'ReplaceToYourAPIKEY' \n",
    "#myURL = 'https://developer.ibm.com/watson/blog/2015/11/03/price-reduction-for-watson-personality-insights/'\n",
    "myURL = 'http://www.washingtonpost.com/blogs/capital-weather-gang/wp/2013/08/14/d-c-area-forecast-ultra-nice-weather-dominates-next-few-days/'"
   ]
  },
  {
   "cell_type": "code",
   "execution_count": 2,
   "metadata": {
    "collapsed": true
   },
   "outputs": [],
   "source": [
    "# Find api_key after register your Bluemix AlchemyLanguage service\n",
    "# 2. Follow steps to run and review\n",
    "\n",
    "alchemy_language = AlchemyLanguageV1(api_key= myAPIkey)\n",
    "\n",
    "# Set url to the content you want analysis\n",
    "url = myURL"
   ]
  },
  {
   "cell_type": "code",
   "execution_count": 3,
   "metadata": {
    "collapsed": false
   },
   "outputs": [
    {
     "ename": "WatsonException",
     "evalue": "Error: invalid-permissions-for-call",
     "output_type": "error",
     "traceback": [
      "\u001b[1;31m---------------------------------------------------------------------------\u001b[0m",
      "\u001b[1;31mWatsonException\u001b[0m                           Traceback (most recent call last)",
      "\u001b[1;32m<ipython-input-3-43617368cc57>\u001b[0m in \u001b[0;36m<module>\u001b[1;34m()\u001b[0m\n\u001b[0;32m      1\u001b[0m \u001b[1;31m# follow examples, but skip indent for test only\u001b[0m\u001b[1;33m\u001b[0m\u001b[1;33m\u001b[0m\u001b[0m\n\u001b[1;32m----> 2\u001b[1;33m \u001b[1;32mprint\u001b[0m \u001b[0mjson\u001b[0m\u001b[1;33m.\u001b[0m\u001b[0mdumps\u001b[0m\u001b[1;33m(\u001b[0m\u001b[0malchemy_language\u001b[0m\u001b[1;33m.\u001b[0m\u001b[0mtargeted_sentiment\u001b[0m\u001b[1;33m(\u001b[0m\u001b[0mtext\u001b[0m\u001b[1;33m=\u001b[0m\u001b[1;34m'I love cats! Dogs are smelly.'\u001b[0m\u001b[1;33m,\u001b[0m \u001b[0mtargets\u001b[0m\u001b[1;33m=\u001b[0m\u001b[1;33m[\u001b[0m\u001b[1;34m'cats'\u001b[0m\u001b[1;33m,\u001b[0m \u001b[1;34m'dogs'\u001b[0m\u001b[1;33m]\u001b[0m\u001b[1;33m,\u001b[0m \u001b[0mlanguage\u001b[0m\u001b[1;33m=\u001b[0m\u001b[1;34m'english'\u001b[0m\u001b[1;33m)\u001b[0m\u001b[1;33m)\u001b[0m\u001b[1;33m\u001b[0m\u001b[0m\n\u001b[0m",
      "\u001b[1;32m/root/.pyenv/versions/anaconda-2.1.0/lib/python2.7/site-packages/watson_developer_cloud/alchemy_language_v1.pyc\u001b[0m in \u001b[0;36mtargeted_sentiment\u001b[1;34m(self, targets, html, text, url, language)\u001b[0m\n\u001b[0;32m    225\u001b[0m \u001b[1;33m\u001b[0m\u001b[0m\n\u001b[0;32m    226\u001b[0m         \u001b[0mparams\u001b[0m \u001b[1;33m=\u001b[0m \u001b[1;33m{\u001b[0m\u001b[1;34m'targets'\u001b[0m\u001b[1;33m:\u001b[0m \u001b[0mtargets\u001b[0m\u001b[1;33m,\u001b[0m \u001b[1;34m'language'\u001b[0m\u001b[1;33m:\u001b[0m \u001b[0mlanguage\u001b[0m\u001b[1;33m}\u001b[0m\u001b[1;33m\u001b[0m\u001b[0m\n\u001b[1;32m--> 227\u001b[1;33m         \u001b[1;32mreturn\u001b[0m \u001b[0mself\u001b[0m\u001b[1;33m.\u001b[0m\u001b[0m_alchemy_html_request\u001b[0m\u001b[1;33m(\u001b[0m\u001b[1;34m'GetTargetedSentiment'\u001b[0m\u001b[1;33m,\u001b[0m \u001b[0mhtml\u001b[0m\u001b[1;33m=\u001b[0m\u001b[0mhtml\u001b[0m\u001b[1;33m,\u001b[0m \u001b[0mtext\u001b[0m\u001b[1;33m=\u001b[0m\u001b[0mtext\u001b[0m\u001b[1;33m,\u001b[0m \u001b[0murl\u001b[0m\u001b[1;33m=\u001b[0m\u001b[0murl\u001b[0m\u001b[1;33m,\u001b[0m \u001b[0mparams\u001b[0m\u001b[1;33m=\u001b[0m\u001b[0mparams\u001b[0m\u001b[1;33m)\u001b[0m\u001b[1;33m\u001b[0m\u001b[0m\n\u001b[0m",
      "\u001b[1;32m/root/.pyenv/versions/anaconda-2.1.0/lib/python2.7/site-packages/watson_developer_cloud/watson_developer_cloud_service.pyc\u001b[0m in \u001b[0;36m_alchemy_html_request\u001b[1;34m(self, method_name, url, html, text, params, method, method_url)\u001b[0m\n\u001b[0;32m    182\u001b[0m \u001b[1;33m\u001b[0m\u001b[0m\n\u001b[0;32m    183\u001b[0m         return self.request(method=method, url=method_url, params=params, data=url_encoded_params, headers=headers,\n\u001b[1;32m--> 184\u001b[1;33m                             accept_json=True)\n\u001b[0m\u001b[0;32m    185\u001b[0m \u001b[1;33m\u001b[0m\u001b[0m\n\u001b[0;32m    186\u001b[0m     \u001b[1;32mdef\u001b[0m \u001b[0m_alchemy_image_request\u001b[0m\u001b[1;33m(\u001b[0m\u001b[0mself\u001b[0m\u001b[1;33m,\u001b[0m \u001b[0mmethod_name\u001b[0m\u001b[1;33m,\u001b[0m \u001b[0mimage_file\u001b[0m\u001b[1;33m=\u001b[0m\u001b[0mNone\u001b[0m\u001b[1;33m,\u001b[0m \u001b[0mimage_url\u001b[0m\u001b[1;33m=\u001b[0m\u001b[0mNone\u001b[0m\u001b[1;33m,\u001b[0m \u001b[0mparams\u001b[0m\u001b[1;33m=\u001b[0m\u001b[0mNone\u001b[0m\u001b[1;33m)\u001b[0m\u001b[1;33m:\u001b[0m\u001b[1;33m\u001b[0m\u001b[0m\n",
      "\u001b[1;32m/root/.pyenv/versions/anaconda-2.1.0/lib/python2.7/site-packages/watson_developer_cloud/watson_developer_cloud_service.pyc\u001b[0m in \u001b[0;36mrequest\u001b[1;34m(self, method, url, accept_json, headers, params, json, data, files, **kwargs)\u001b[0m\n\u001b[0;32m    253\u001b[0m                     \u001b[1;32mif\u001b[0m \u001b[0merror_message\u001b[0m \u001b[1;33m==\u001b[0m \u001b[1;34m'invalid-api-key'\u001b[0m\u001b[1;33m:\u001b[0m\u001b[1;33m\u001b[0m\u001b[0m\n\u001b[0;32m    254\u001b[0m                         \u001b[0mresponse\u001b[0m\u001b[1;33m.\u001b[0m\u001b[0mstatus_code\u001b[0m \u001b[1;33m=\u001b[0m \u001b[1;36m401\u001b[0m\u001b[1;33m\u001b[0m\u001b[0m\n\u001b[1;32m--> 255\u001b[1;33m                     \u001b[1;32mraise\u001b[0m \u001b[0mWatsonException\u001b[0m\u001b[1;33m(\u001b[0m\u001b[1;34m'Error: '\u001b[0m \u001b[1;33m+\u001b[0m \u001b[0merror_message\u001b[0m\u001b[1;33m)\u001b[0m\u001b[1;33m\u001b[0m\u001b[0m\n\u001b[0m\u001b[0;32m    256\u001b[0m                 \u001b[1;32mreturn\u001b[0m \u001b[0mresponse_json\u001b[0m\u001b[1;33m\u001b[0m\u001b[0m\n\u001b[0;32m    257\u001b[0m             \u001b[1;32mreturn\u001b[0m \u001b[0mresponse\u001b[0m\u001b[1;33m\u001b[0m\u001b[0m\n",
      "\u001b[1;31mWatsonException\u001b[0m: Error: invalid-permissions-for-call"
     ]
    }
   ],
   "source": [
    "# follow examples, but skip indent for test only\n",
    "print json.dumps(alchemy_language.targeted_sentiment(text='I love cats! Dogs are smelly.', targets=['cats', 'dogs'], language='english'))"
   ]
  },
  {
   "cell_type": "code",
   "execution_count": 38,
   "metadata": {
    "collapsed": false,
    "scrolled": true
   },
   "outputs": [
    {
     "ename": "WatsonException",
     "evalue": "Error: invalid-permissions-for-call",
     "output_type": "error",
     "traceback": [
      "\u001b[1;31m---------------------------------------------------------------------------\u001b[0m",
      "\u001b[1;31mWatsonException\u001b[0m                           Traceback (most recent call last)",
      "\u001b[1;32m<ipython-input-38-095fc88ffac8>\u001b[0m in \u001b[0;36m<module>\u001b[1;34m()\u001b[0m\n\u001b[0;32m      1\u001b[0m \u001b[1;31m# Keyword Extraction, follow examples\u001b[0m\u001b[1;33m\u001b[0m\u001b[1;33m\u001b[0m\u001b[0m\n\u001b[1;32m----> 2\u001b[1;33m \u001b[1;32mprint\u001b[0m\u001b[1;33m(\u001b[0m\u001b[0mjson\u001b[0m\u001b[1;33m.\u001b[0m\u001b[0mdumps\u001b[0m\u001b[1;33m(\u001b[0m\u001b[0malchemy_language\u001b[0m\u001b[1;33m.\u001b[0m\u001b[0mkeywords\u001b[0m\u001b[1;33m(\u001b[0m\u001b[1;36m2\u001b[0m\u001b[1;33m,\u001b[0m\u001b[0murl\u001b[0m\u001b[1;33m=\u001b[0m\u001b[0murl\u001b[0m\u001b[1;33m)\u001b[0m\u001b[1;33m,\u001b[0m  \u001b[0mindent\u001b[0m\u001b[1;33m=\u001b[0m\u001b[1;36m2\u001b[0m\u001b[1;33m)\u001b[0m\u001b[1;33m)\u001b[0m\u001b[1;33m\u001b[0m\u001b[0m\n\u001b[0m",
      "\u001b[1;32m/root/.pyenv/versions/anaconda-2.1.0/lib/python2.7/site-packages/watson_developer_cloud/alchemy_language_v1.pyc\u001b[0m in \u001b[0;36mkeywords\u001b[1;34m(self, html, text, url, strict_extract_mode, sentiment, show_source_text, max_keywords, language)\u001b[0m\n\u001b[0;32m     41\u001b[0m                   \u001b[1;34m'maxRetrieve'\u001b[0m\u001b[1;33m:\u001b[0m \u001b[0mmax_keywords\u001b[0m\u001b[1;33m,\u001b[0m\u001b[1;33m\u001b[0m\u001b[0m\n\u001b[0;32m     42\u001b[0m                   'language': language}\n\u001b[1;32m---> 43\u001b[1;33m         \u001b[1;32mreturn\u001b[0m \u001b[0mself\u001b[0m\u001b[1;33m.\u001b[0m\u001b[0m_alchemy_html_request\u001b[0m\u001b[1;33m(\u001b[0m\u001b[1;34m'GetRankedKeywords'\u001b[0m\u001b[1;33m,\u001b[0m \u001b[0mhtml\u001b[0m\u001b[1;33m=\u001b[0m\u001b[0mhtml\u001b[0m\u001b[1;33m,\u001b[0m \u001b[0mtext\u001b[0m\u001b[1;33m=\u001b[0m\u001b[0mtext\u001b[0m\u001b[1;33m,\u001b[0m \u001b[0murl\u001b[0m\u001b[1;33m=\u001b[0m\u001b[0murl\u001b[0m\u001b[1;33m,\u001b[0m \u001b[0mparams\u001b[0m\u001b[1;33m=\u001b[0m\u001b[0mparams\u001b[0m\u001b[1;33m)\u001b[0m\u001b[1;33m\u001b[0m\u001b[0m\n\u001b[0m\u001b[0;32m     44\u001b[0m \u001b[1;33m\u001b[0m\u001b[0m\n\u001b[0;32m     45\u001b[0m     def concepts(self, html=None, text=None, url=None, max_items=8, linked_data=True, show_source_text=False,\n",
      "\u001b[1;32m/root/.pyenv/versions/anaconda-2.1.0/lib/python2.7/site-packages/watson_developer_cloud/watson_developer_cloud_service.pyc\u001b[0m in \u001b[0;36m_alchemy_html_request\u001b[1;34m(self, method_name, url, html, text, params, method, method_url)\u001b[0m\n\u001b[0;32m    182\u001b[0m \u001b[1;33m\u001b[0m\u001b[0m\n\u001b[0;32m    183\u001b[0m         return self.request(method=method, url=method_url, params=params, data=url_encoded_params, headers=headers,\n\u001b[1;32m--> 184\u001b[1;33m                             accept_json=True)\n\u001b[0m\u001b[0;32m    185\u001b[0m \u001b[1;33m\u001b[0m\u001b[0m\n\u001b[0;32m    186\u001b[0m     \u001b[1;32mdef\u001b[0m \u001b[0m_alchemy_image_request\u001b[0m\u001b[1;33m(\u001b[0m\u001b[0mself\u001b[0m\u001b[1;33m,\u001b[0m \u001b[0mmethod_name\u001b[0m\u001b[1;33m,\u001b[0m \u001b[0mimage_file\u001b[0m\u001b[1;33m=\u001b[0m\u001b[0mNone\u001b[0m\u001b[1;33m,\u001b[0m \u001b[0mimage_url\u001b[0m\u001b[1;33m=\u001b[0m\u001b[0mNone\u001b[0m\u001b[1;33m,\u001b[0m \u001b[0mparams\u001b[0m\u001b[1;33m=\u001b[0m\u001b[0mNone\u001b[0m\u001b[1;33m)\u001b[0m\u001b[1;33m:\u001b[0m\u001b[1;33m\u001b[0m\u001b[0m\n",
      "\u001b[1;32m/root/.pyenv/versions/anaconda-2.1.0/lib/python2.7/site-packages/watson_developer_cloud/watson_developer_cloud_service.pyc\u001b[0m in \u001b[0;36mrequest\u001b[1;34m(self, method, url, accept_json, headers, params, json, data, files, **kwargs)\u001b[0m\n\u001b[0;32m    253\u001b[0m                     \u001b[1;32mif\u001b[0m \u001b[0merror_message\u001b[0m \u001b[1;33m==\u001b[0m \u001b[1;34m'invalid-api-key'\u001b[0m\u001b[1;33m:\u001b[0m\u001b[1;33m\u001b[0m\u001b[0m\n\u001b[0;32m    254\u001b[0m                         \u001b[0mresponse\u001b[0m\u001b[1;33m.\u001b[0m\u001b[0mstatus_code\u001b[0m \u001b[1;33m=\u001b[0m \u001b[1;36m401\u001b[0m\u001b[1;33m\u001b[0m\u001b[0m\n\u001b[1;32m--> 255\u001b[1;33m                     \u001b[1;32mraise\u001b[0m \u001b[0mWatsonException\u001b[0m\u001b[1;33m(\u001b[0m\u001b[1;34m'Error: '\u001b[0m \u001b[1;33m+\u001b[0m \u001b[0merror_message\u001b[0m\u001b[1;33m)\u001b[0m\u001b[1;33m\u001b[0m\u001b[0m\n\u001b[0m\u001b[0;32m    256\u001b[0m                 \u001b[1;32mreturn\u001b[0m \u001b[0mresponse_json\u001b[0m\u001b[1;33m\u001b[0m\u001b[0m\n\u001b[0;32m    257\u001b[0m             \u001b[1;32mreturn\u001b[0m \u001b[0mresponse\u001b[0m\u001b[1;33m\u001b[0m\u001b[0m\n",
      "\u001b[1;31mWatsonException\u001b[0m: Error: invalid-permissions-for-call"
     ]
    }
   ],
   "source": [
    "# Keyword Extraction, follow examples\n",
    "print(json.dumps(alchemy_language.keywords(2,url=url),  indent=2))"
   ]
  },
  {
   "cell_type": "code",
   "execution_count": 27,
   "metadata": {
    "collapsed": false
   },
   "outputs": [
    {
     "name": "stdout",
     "output_type": "stream",
     "text": [
      "{\n",
      "  \"status\": \"OK\", \n",
      "  \"usage\": \"By accessing AlchemyAPI or using information generated by AlchemyAPI, you are agreeing to be bound by the AlchemyAPI Terms of Use: http://www.alchemyapi.com/company/terms.html\", \n",
      "  \"relations\": [\n",
      "    {\n",
      "      \"action\": {\n",
      "        \"text\": \"is\", \n",
      "        \"verb\": {\n",
      "          \"text\": \"be\", \n",
      "          \"tense\": \"present\"\n",
      "        }, \n",
      "        \"lemmatized\": \"be\"\n",
      "      }, \n",
      "      \"subject\": {\n",
      "        \"text\": \"The IBM Watson team\"\n",
      "      }, \n",
      "      \"object\": {\n",
      "        \"text\": \"happy\"\n",
      "      }, \n",
      "      \"sentence\": \" The IBM Watson team is happy to inform you that the cost per API call will be reduced for IBM Watson Personality Insights starting on December 1, 2015.\\u00a0 The new cost will be as follows:\"\n",
      "    }, \n",
      "    {\n",
      "      \"action\": {\n",
      "        \"text\": \"to inform\", \n",
      "        \"verb\": {\n",
      "          \"text\": \"inform\", \n",
      "          \"tense\": \"future\"\n",
      "        }, \n",
      "        \"lemmatized\": \"to inform\"\n",
      "      }, \n",
      "      \"subject\": {\n",
      "        \"text\": \"The IBM Watson team\"\n",
      "      }, \n",
      "      \"object\": {\n",
      "        \"text\": \"you\"\n",
      "      }, \n",
      "      \"sentence\": \" The IBM Watson team is happy to inform you that the cost per API call will be reduced for IBM Watson Personality Insights starting on December 1, 2015.\\u00a0 The new cost will be as follows:\"\n",
      "    }, \n",
      "    {\n",
      "      \"action\": {\n",
      "        \"text\": \"be\", \n",
      "        \"verb\": {\n",
      "          \"text\": \"be\", \n",
      "          \"tense\": \"future\"\n",
      "        }, \n",
      "        \"lemmatized\": \"be\"\n",
      "      }, \n",
      "      \"subject\": {\n",
      "        \"text\": \"the cost per API call\"\n",
      "      }, \n",
      "      \"object\": {\n",
      "        \"text\": \"reduced for IBM Watson Personality Insights\"\n",
      "      }, \n",
      "      \"sentence\": \" The IBM Watson team is happy to inform you that the cost per API call will be reduced for IBM Watson Personality Insights starting on December 1, 2015.\\u00a0 The new cost will be as follows:\"\n",
      "    }, \n",
      "    {\n",
      "      \"action\": {\n",
      "        \"text\": \"starting\", \n",
      "        \"verb\": {\n",
      "          \"text\": \"start\", \n",
      "          \"tense\": \"present\"\n",
      "        }, \n",
      "        \"lemmatized\": \"start\"\n",
      "      }, \n",
      "      \"subject\": {\n",
      "        \"text\": \"IBM Watson Personality Insights\"\n",
      "      }, \n",
      "      \"sentence\": \" The IBM Watson team is happy to inform you that the cost per API call will be reduced for IBM Watson Personality Insights starting on December 1, 2015.\\u00a0 The new cost will be as follows:\"\n",
      "    }, \n",
      "    {\n",
      "      \"action\": {\n",
      "        \"text\": \"calls\", \n",
      "        \"verb\": {\n",
      "          \"text\": \"call\", \n",
      "          \"tense\": \"present\"\n",
      "        }, \n",
      "        \"lemmatized\": \"call\"\n",
      "      }, \n",
      "      \"subject\": {\n",
      "        \"text\": \"First hundred API\"\n",
      "      }, \n",
      "      \"sentence\": \" First hundred API calls per month are FREE.\"\n",
      "    }, \n",
      "    {\n",
      "      \"action\": {\n",
      "        \"text\": \"are\", \n",
      "        \"verb\": {\n",
      "          \"text\": \"be\", \n",
      "          \"tense\": \"present\"\n",
      "        }, \n",
      "        \"lemmatized\": \"be\"\n",
      "      }, \n",
      "      \"subject\": {\n",
      "        \"text\": \"First hundred API calls\"\n",
      "      }, \n",
      "      \"object\": {\n",
      "        \"text\": \"FREE\"\n",
      "      }, \n",
      "      \"sentence\": \" First hundred API calls per month are FREE.\"\n",
      "    }, \n",
      "    {\n",
      "      \"action\": {\n",
      "        \"text\": \"are priced\", \n",
      "        \"verb\": {\n",
      "          \"text\": \"price\", \n",
      "          \"tense\": \"past\"\n",
      "        }, \n",
      "        \"lemmatized\": \"be price\"\n",
      "      }, \n",
      "      \"subject\": {\n",
      "        \"text\": \"Additional calls\"\n",
      "      }, \n",
      "      \"object\": {\n",
      "        \"text\": \"per API call, per month\"\n",
      "      }, \n",
      "      \"sentence\": \" Additional calls are priced per API call, per month, as follows:\"\n",
      "    }, \n",
      "    {\n",
      "      \"action\": {\n",
      "        \"text\": \"will remain\", \n",
      "        \"verb\": {\n",
      "          \"text\": \"remain\", \n",
      "          \"tense\": \"future\"\n",
      "        }, \n",
      "        \"lemmatized\": \"will remain\"\n",
      "      }, \n",
      "      \"subject\": {\n",
      "        \"text\": \"The current pricing\"\n",
      "      }, \n",
      "      \"sentence\": \" The current pricing will remain in effect until December 1, 2015.\"\n",
      "    }, \n",
      "    {\n",
      "      \"action\": {\n",
      "        \"text\": \"can find\", \n",
      "        \"verb\": {\n",
      "          \"text\": \"find\", \n",
      "          \"tense\": \"future\"\n",
      "        }, \n",
      "        \"lemmatized\": \"can find\"\n",
      "      }, \n",
      "      \"subject\": {\n",
      "        \"text\": \"You\"\n",
      "      }, \n",
      "      \"object\": {\n",
      "        \"text\": \"the pricing information, plus demos, documentation, sample code and more on the Personality Insights service page\"\n",
      "      }, \n",
      "      \"sentence\": \" You can find the pricing information, plus demos, documentation, sample code and more on the Personality Insights service page.\"\n",
      "    }, \n",
      "    {\n",
      "      \"action\": {\n",
      "        \"text\": \"is using\", \n",
      "        \"verb\": {\n",
      "          \"text\": \"use\", \n",
      "          \"tense\": \"present\"\n",
      "        }, \n",
      "        \"lemmatized\": \"be use\"\n",
      "      }, \n",
      "      \"subject\": {\n",
      "        \"text\": \"Personality Insights\"\n",
      "      }, \n",
      "      \"object\": {\n",
      "        \"text\": \"to customize social media marketing in this recent blog\"\n",
      "      }, \n",
      "      \"sentence\": \" Learn how one of our Ecosystem partners, Earshot, is using Personality Insights to customize social media marketing in this recent blog.\"\n",
      "    }, \n",
      "    {\n",
      "      \"action\": {\n",
      "        \"text\": \"to customize\", \n",
      "        \"verb\": {\n",
      "          \"text\": \"customize\", \n",
      "          \"tense\": \"future\"\n",
      "        }, \n",
      "        \"lemmatized\": \"to customize\"\n",
      "      }, \n",
      "      \"subject\": {\n",
      "        \"text\": \"social media marketing\"\n",
      "      }, \n",
      "      \"location\": {\n",
      "        \"text\": \"in this recent blog\"\n",
      "      }, \n",
      "      \"sentence\": \" Learn how one of our Ecosystem partners, Earshot, is using Personality Insights to customize social media marketing in this recent blog.\"\n",
      "    }, \n",
      "    {\n",
      "      \"action\": {\n",
      "        \"text\": \"view\", \n",
      "        \"verb\": {\n",
      "          \"text\": \"view\", \n",
      "          \"tense\": \"present\"\n",
      "        }, \n",
      "        \"lemmatized\": \"view\"\n",
      "      }, \n",
      "      \"subject\": {\n",
      "        \"text\": \"this webinar\"\n",
      "      }, \n",
      "      \"object\": {\n",
      "        \"text\": \"on how to enhance applications using Personality Insights with AlchemyLanguage Sentiment Analysis\"\n",
      "      }, \n",
      "      \"sentence\": \" And\\u00a0view this webinar on how to enhance applications using Personality Insights with AlchemyLanguage Sentiment Analysis.\"\n",
      "    }, \n",
      "    {\n",
      "      \"action\": {\n",
      "        \"text\": \"using\", \n",
      "        \"verb\": {\n",
      "          \"text\": \"use\", \n",
      "          \"tense\": \"present\"\n",
      "        }, \n",
      "        \"lemmatized\": \"use\"\n",
      "      }, \n",
      "      \"subject\": {\n",
      "        \"text\": \"Personality Insights\"\n",
      "      }, \n",
      "      \"object\": {\n",
      "        \"text\": \"with AlchemyLanguage Sentiment Analysis\"\n",
      "      }, \n",
      "      \"sentence\": \" And\\u00a0view this webinar on how to enhance applications using Personality Insights with AlchemyLanguage Sentiment Analysis.\"\n",
      "    }, \n",
      "    {\n",
      "      \"action\": {\n",
      "        \"text\": \"using\", \n",
      "        \"verb\": {\n",
      "          \"text\": \"use\", \n",
      "          \"tense\": \"present\"\n",
      "        }, \n",
      "        \"lemmatized\": \"use\"\n",
      "      }, \n",
      "      \"subject\": {\n",
      "        \"text\": \"Personality Insights and other Watson services\"\n",
      "      }, \n",
      "      \"location\": {\n",
      "        \"text\": \"in our App Gallery\"\n",
      "      }, \n",
      "      \"sentence\": \" And for even more inspiration, check out the cool apps using Personality Insights and other Watson services in our App Gallery.\"\n",
      "    }, \n",
      "    {\n",
      "      \"action\": {\n",
      "        \"text\": \"please visit\", \n",
      "        \"verb\": {\n",
      "          \"text\": \"visit\", \n",
      "          \"tense\": \"present\"\n",
      "        }, \n",
      "        \"lemmatized\": \"please visit\"\n",
      "      }, \n",
      "      \"subject\": {\n",
      "        \"text\": \"a full list of all the Watson Developer Cloud cognitive APIs, demos and documentation,\"\n",
      "      }, \n",
      "      \"object\": {\n",
      "        \"text\": \"the Watson Developer Cloud site\"\n",
      "      }, \n",
      "      \"sentence\": \" For a full list of all the Watson Developer Cloud cognitive APIs, demos and documentation, please visit the Watson Developer Cloud site.\"\n",
      "    }\n",
      "  ], \n",
      "  \"url\": \"https://developer.ibm.com/watson/blog/2015/11/03/price-reduction-for-watson-personality-insights/\", \n",
      "  \"language\": \"english\"\n",
      "}\n"
     ]
    }
   ],
   "source": [
    "# Relation Extraction, follow examples\n",
    "print(json.dumps(alchemy_language.relations(url=url), indent=2))"
   ]
  },
  {
   "cell_type": "markdown",
   "metadata": {},
   "source": [
    "## The API\n",
    "- 3. Checkout API doc, write ourown samples\n",
    "- Target: Plot top ten keywords\n",
    "\n",
    "### Keyword Extraction  \n",
    "\n",
    "```\n",
    "alchemy_language.keywords(url=url)\n",
    "```\n",
    "**Keywords** - important topics in your content that are typically used when indexing data, generating tag clouds, or when searching. The AlchemyLanguage service automatically identifies supported languages (see the next bullet) in your input content, and then identifies and ranks keywords in that content. Sentiment can also be associated with each keyword by using the AlchemyLanguage stiment analysis capabilities.\n",
    "\n",
    "The argument _ **  maxLens ** not works _ \n",
    "\n",
    "### Relation Extraction \n",
    "```\n",
    "alchemy_language.relations(url=url)\n",
    "```\n",
    "\n",
    "**Relations** - identifies subject, action, and object relations within sentences in the input content. After parsing sentences into subject, action, and object form, the Relation Extraction API functions can use this information for subsequent processing by other AlchemyLanguage functions such as entity extraction, keyword extraction, sentiment analysis, and location identification. Relation information can be used to automatically identify buying signals, key events, and other important actions.\n",
    "\n",
    "### Reference Library\n",
    "- [Plotly](https://plot.ly/ipython-notebooks/)"
   ]
  },
  {
   "cell_type": "code",
   "execution_count": 31,
   "metadata": {
    "collapsed": false
   },
   "outputs": [
    {
     "ename": "WatsonException",
     "evalue": "Error: invalid-permissions-for-call",
     "output_type": "error",
     "traceback": [
      "\u001b[1;31m---------------------------------------------------------------------------\u001b[0m",
      "\u001b[1;31mWatsonException\u001b[0m                           Traceback (most recent call last)",
      "\u001b[1;32m<ipython-input-31-6b1e15d71e2d>\u001b[0m in \u001b[0;36m<module>\u001b[1;34m()\u001b[0m\n\u001b[1;32m----> 1\u001b[1;33m \u001b[0mrtn\u001b[0m \u001b[1;33m=\u001b[0m \u001b[0malchemy_language\u001b[0m\u001b[1;33m.\u001b[0m\u001b[0mkeywords\u001b[0m\u001b[1;33m(\u001b[0m\u001b[0murl\u001b[0m\u001b[1;33m=\u001b[0m\u001b[0murl\u001b[0m\u001b[1;33m)\u001b[0m\u001b[1;33m\u001b[0m\u001b[0m\n\u001b[0m\u001b[0;32m      2\u001b[0m \u001b[0mkeywords\u001b[0m\u001b[1;33m=\u001b[0m \u001b[0mrtn\u001b[0m\u001b[1;33m[\u001b[0m\u001b[1;34m\"keywords\"\u001b[0m\u001b[1;33m]\u001b[0m\u001b[1;33m\u001b[0m\u001b[0m\n\u001b[0;32m      3\u001b[0m \u001b[1;32mprint\u001b[0m \u001b[0mkeywords\u001b[0m\u001b[1;33m[\u001b[0m\u001b[1;36m1\u001b[0m\u001b[1;33m:\u001b[0m\u001b[1;36m10\u001b[0m\u001b[1;33m]\u001b[0m\u001b[1;33m\u001b[0m\u001b[0m\n",
      "\u001b[1;32m/root/.pyenv/versions/anaconda-2.1.0/lib/python2.7/site-packages/watson_developer_cloud/alchemy_language_v1.pyc\u001b[0m in \u001b[0;36mkeywords\u001b[1;34m(self, html, text, url, strict_extract_mode, sentiment, show_source_text, max_keywords, language)\u001b[0m\n\u001b[0;32m     41\u001b[0m                   \u001b[1;34m'maxRetrieve'\u001b[0m\u001b[1;33m:\u001b[0m \u001b[0mmax_keywords\u001b[0m\u001b[1;33m,\u001b[0m\u001b[1;33m\u001b[0m\u001b[0m\n\u001b[0;32m     42\u001b[0m                   'language': language}\n\u001b[1;32m---> 43\u001b[1;33m         \u001b[1;32mreturn\u001b[0m \u001b[0mself\u001b[0m\u001b[1;33m.\u001b[0m\u001b[0m_alchemy_html_request\u001b[0m\u001b[1;33m(\u001b[0m\u001b[1;34m'GetRankedKeywords'\u001b[0m\u001b[1;33m,\u001b[0m \u001b[0mhtml\u001b[0m\u001b[1;33m=\u001b[0m\u001b[0mhtml\u001b[0m\u001b[1;33m,\u001b[0m \u001b[0mtext\u001b[0m\u001b[1;33m=\u001b[0m\u001b[0mtext\u001b[0m\u001b[1;33m,\u001b[0m \u001b[0murl\u001b[0m\u001b[1;33m=\u001b[0m\u001b[0murl\u001b[0m\u001b[1;33m,\u001b[0m \u001b[0mparams\u001b[0m\u001b[1;33m=\u001b[0m\u001b[0mparams\u001b[0m\u001b[1;33m)\u001b[0m\u001b[1;33m\u001b[0m\u001b[0m\n\u001b[0m\u001b[0;32m     44\u001b[0m \u001b[1;33m\u001b[0m\u001b[0m\n\u001b[0;32m     45\u001b[0m     def concepts(self, html=None, text=None, url=None, max_items=8, linked_data=True, show_source_text=False,\n",
      "\u001b[1;32m/root/.pyenv/versions/anaconda-2.1.0/lib/python2.7/site-packages/watson_developer_cloud/watson_developer_cloud_service.pyc\u001b[0m in \u001b[0;36m_alchemy_html_request\u001b[1;34m(self, method_name, url, html, text, params, method, method_url)\u001b[0m\n\u001b[0;32m    182\u001b[0m \u001b[1;33m\u001b[0m\u001b[0m\n\u001b[0;32m    183\u001b[0m         return self.request(method=method, url=method_url, params=params, data=url_encoded_params, headers=headers,\n\u001b[1;32m--> 184\u001b[1;33m                             accept_json=True)\n\u001b[0m\u001b[0;32m    185\u001b[0m \u001b[1;33m\u001b[0m\u001b[0m\n\u001b[0;32m    186\u001b[0m     \u001b[1;32mdef\u001b[0m \u001b[0m_alchemy_image_request\u001b[0m\u001b[1;33m(\u001b[0m\u001b[0mself\u001b[0m\u001b[1;33m,\u001b[0m \u001b[0mmethod_name\u001b[0m\u001b[1;33m,\u001b[0m \u001b[0mimage_file\u001b[0m\u001b[1;33m=\u001b[0m\u001b[0mNone\u001b[0m\u001b[1;33m,\u001b[0m \u001b[0mimage_url\u001b[0m\u001b[1;33m=\u001b[0m\u001b[0mNone\u001b[0m\u001b[1;33m,\u001b[0m \u001b[0mparams\u001b[0m\u001b[1;33m=\u001b[0m\u001b[0mNone\u001b[0m\u001b[1;33m)\u001b[0m\u001b[1;33m:\u001b[0m\u001b[1;33m\u001b[0m\u001b[0m\n",
      "\u001b[1;32m/root/.pyenv/versions/anaconda-2.1.0/lib/python2.7/site-packages/watson_developer_cloud/watson_developer_cloud_service.pyc\u001b[0m in \u001b[0;36mrequest\u001b[1;34m(self, method, url, accept_json, headers, params, json, data, files, **kwargs)\u001b[0m\n\u001b[0;32m    253\u001b[0m                     \u001b[1;32mif\u001b[0m \u001b[0merror_message\u001b[0m \u001b[1;33m==\u001b[0m \u001b[1;34m'invalid-api-key'\u001b[0m\u001b[1;33m:\u001b[0m\u001b[1;33m\u001b[0m\u001b[0m\n\u001b[0;32m    254\u001b[0m                         \u001b[0mresponse\u001b[0m\u001b[1;33m.\u001b[0m\u001b[0mstatus_code\u001b[0m \u001b[1;33m=\u001b[0m \u001b[1;36m401\u001b[0m\u001b[1;33m\u001b[0m\u001b[0m\n\u001b[1;32m--> 255\u001b[1;33m                     \u001b[1;32mraise\u001b[0m \u001b[0mWatsonException\u001b[0m\u001b[1;33m(\u001b[0m\u001b[1;34m'Error: '\u001b[0m \u001b[1;33m+\u001b[0m \u001b[0merror_message\u001b[0m\u001b[1;33m)\u001b[0m\u001b[1;33m\u001b[0m\u001b[0m\n\u001b[0m\u001b[0;32m    256\u001b[0m                 \u001b[1;32mreturn\u001b[0m \u001b[0mresponse_json\u001b[0m\u001b[1;33m\u001b[0m\u001b[0m\n\u001b[0;32m    257\u001b[0m             \u001b[1;32mreturn\u001b[0m \u001b[0mresponse\u001b[0m\u001b[1;33m\u001b[0m\u001b[0m\n",
      "\u001b[1;31mWatsonException\u001b[0m: Error: invalid-permissions-for-call"
     ]
    }
   ],
   "source": [
    "rtn = alchemy_language.keywords(url=url)\n",
    "keywords= rtn[\"keywords\"]\n",
    "print keywords[1:10]"
   ]
  },
  {
   "cell_type": "code",
   "execution_count": 29,
   "metadata": {
    "collapsed": false
   },
   "outputs": [
    {
     "name": "stdout",
     "output_type": "stream",
     "text": [
      "[{u'action': {u'text': u'to inform', u'verb': {u'text': u'inform', u'tense': u'future'}, u'lemmatized': u'to inform'}, u'subject': {u'text': u'The IBM Watson team'}, u'object': {u'text': u'you'}, u'sentence': u' The IBM Watson team is happy to inform you that the cost per API call will be reduced for IBM Watson Personality Insights starting on December 1, 2015.\\xa0 The new cost will be as follows:'}, {u'action': {u'text': u'be', u'verb': {u'text': u'be', u'tense': u'future'}, u'lemmatized': u'be'}, u'subject': {u'text': u'the cost per API call'}, u'object': {u'text': u'reduced for IBM Watson Personality Insights'}, u'sentence': u' The IBM Watson team is happy to inform you that the cost per API call will be reduced for IBM Watson Personality Insights starting on December 1, 2015.\\xa0 The new cost will be as follows:'}, {u'action': {u'text': u'starting', u'verb': {u'text': u'start', u'tense': u'present'}, u'lemmatized': u'start'}, u'subject': {u'text': u'IBM Watson Personality Insights'}, u'sentence': u' The IBM Watson team is happy to inform you that the cost per API call will be reduced for IBM Watson Personality Insights starting on December 1, 2015.\\xa0 The new cost will be as follows:'}, {u'action': {u'text': u'calls', u'verb': {u'text': u'call', u'tense': u'present'}, u'lemmatized': u'call'}, u'subject': {u'text': u'First hundred API'}, u'sentence': u' First hundred API calls per month are FREE.'}]\n"
     ]
    }
   ],
   "source": [
    "rtn = alchemy_language.relations(url=url)\n",
    "relations =  rtn[\"relations\"]\n",
    "print relations[1:5]"
   ]
  },
  {
   "cell_type": "code",
   "execution_count": null,
   "metadata": {
    "collapsed": true
   },
   "outputs": [],
   "source": [
    "# Initial plot \n",
    "%matplotlib inline\n",
    "from matplotlib import pyplot as plt\n",
    "import numpy as np\n",
    "\n",
    "# Show top 10 in plot\n",
    "n = 10\n",
    "X = np.arange(n)"
   ]
  },
  {
   "cell_type": "code",
   "execution_count": null,
   "metadata": {
    "collapsed": false
   },
   "outputs": [],
   "source": [
    "# Convert string dict to float list\n",
    "fixed_list = [x.items() for x in keywords]\n",
    "vals,keys = zip(*fixed_list)\n",
    "value = zip(*vals)\n",
    "keyword = zip(*keys)\n",
    "s = list((value[1][:n]))\n",
    "Y=[float(i) for i in s]\n",
    "#print keyword[1][1]"
   ]
  },
  {
   "cell_type": "code",
   "execution_count": null,
   "metadata": {
    "collapsed": false
   },
   "outputs": [],
   "source": [
    "# Plot\n",
    "# 4. Review visual output\n",
    "plt.bar(X, Y, facecolor='#9999ff', edgecolor='white')\n",
    "for x,y in zip(X,Y):\n",
    "    plt.text(x+0.4, -.2, keyword[1][x], ha='center', va= 'bottom', rotation='vertical')\n",
    "#plt.ylim(0,+1)\n",
    "plt.show()    "
   ]
  },
  {
   "cell_type": "code",
   "execution_count": null,
   "metadata": {
    "collapsed": true
   },
   "outputs": [],
   "source": []
  },
  {
   "cell_type": "markdown",
   "metadata": {},
   "source": [
    "## Python reference\n",
    "\n",
    "### JSON process in Python\n",
    "\n",
    "print json.dumps(alchemy_language.keywords(5, url), 2)\n",
    "\n",
    "JSON to Python|Python to JSON\n",
    "--|--\n",
    "![json](json-j2p.jpg)|![json](json-p2j.jpg)"
   ]
  },
  {
   "cell_type": "code",
   "execution_count": null,
   "metadata": {
    "collapsed": true
   },
   "outputs": [],
   "source": []
  }
 ],
 "metadata": {
  "kernelspec": {
   "display_name": "Python 2",
   "language": "python",
   "name": "python2"
  },
  "language_info": {
   "codemirror_mode": {
    "name": "ipython",
    "version": 2
   },
   "file_extension": ".py",
   "mimetype": "text/x-python",
   "name": "python",
   "nbconvert_exporter": "python",
   "pygments_lexer": "ipython2",
   "version": "2.7.9"
  }
 },
 "nbformat": 4,
 "nbformat_minor": 0
}
