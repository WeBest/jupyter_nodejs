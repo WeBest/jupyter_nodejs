{
 "cells": [
  {
   "cell_type": "markdown",
   "metadata": {},
   "source": [
    "# Node.js\n",
    "\n",
    "The is a quickoverview for node.js. \n",
    "\n",
    "## Material\n",
    "\n",
    "If you are not familiar with javascript then start from Javascript \n",
    "Three artifact for your new language are:\n",
    "\n",
    "1. [Cheatsheet](https://dzone.com/storage/assets/756004-dzone-rc-141-nodejs.pdf)\n",
    "2. [Tutorial](https://github.com/workshopper/learnyounode)\n",
    "3. [Playground](https://hub.docker.com/r/jessewei/jupyter_nodejs/)\n",
    "\n",
    "\n",
    "## Javascript\n",
    "1. [Cheatsheet](https://www.cheatography.com/davechild/cheat-sheets/javascript/)\n",
    "2. [Tutorial](https://www.codecademy.com/learn/javascript)\n",
    "3. [Playground](https://hub.docker.com/r/jessewei/jupyter_nodejs/)\n",
    "\n"
   ]
  },
  {
   "cell_type": "code",
   "execution_count": null,
   "metadata": {
    "collapsed": true
   },
   "outputs": [],
   "source": [
    "\"Cake\".length"
   ]
  },
  {
   "cell_type": "code",
   "execution_count": null,
   "metadata": {
    "collapsed": true
   },
   "outputs": [],
   "source": []
  }
 ],
 "metadata": {
  "kernelspec": {
   "display_name": "javascript",
   "language": "javascript",
   "name": "ijs"
  },
  "language_info": {
   "name": "javascript",
   "version": "0.12.2"
  }
 },
 "nbformat": 4,
 "nbformat_minor": 0
}
