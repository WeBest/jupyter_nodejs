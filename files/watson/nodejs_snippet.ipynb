{
 "cells": [
  {
   "cell_type": "markdown",
   "metadata": {},
   "source": [
    "## NODE.JS\n",
    "\n",
    "### Snippet for test\n",
    "\n",
    "1. [JSON search](#p1)\n",
    "2. [TBD](#p2)"
   ]
  },
  {
   "cell_type": "markdown",
   "metadata": {},
   "source": [
    "### JSON search: <a id='p1'></a>\n",
    "* [It is javascript search problem after JSON loaded, not JSON.](http://stackoverflow.com/questions/tagged/javascript+json+search)\n",
    "* There are lots common [JS search solution](http://stackoverflow.com/questions/19253753/javascript-find-json-value) :\n",
    "    * Array.filter(), [JS style](https://developer.mozilla.org/en-US/docs/Web/JavaScript/Reference/Global_Objects/Array/filter)\n",
    "    * Dict, JS style\n",
    "    * for loop, no style\n",
    "    * JSON package, apply for external json file search.\n",
    "    \n",
    "\n",
    "### Q&A \n",
    "* When JSON search is a language problem?\n",
    "    * ANS: \n"
   ]
  },
  {
   "cell_type": "code",
   "execution_count": 23,
   "metadata": {
    "collapsed": false
   },
   "outputs": [
    {
     "data": {
      "text/html": [
       "<pre>{ value: &#39;Mikey&#39;,\n",
       "  key: &#39;name&#39;,\n",
       "  references: [ { name: &#39;Mikey&#39;, country: &#39;NZ&#39; } ],\n",
       "  parents: \n",
       "   [ { key: null, value: [Object] },\n",
       "     { key: &#39;people&#39;, value: [Object] },\n",
       "     { key: 2, value: [Object] } ] }</pre>"
      ],
      "text/plain": [
       "{ value: 'Mikey',\n",
       "  key: 'name',\n",
       "  references: [ { name: 'Mikey', country: 'NZ' } ],\n",
       "  parents: \n",
       "   [ { key: null, value: [Object] },\n",
       "     { key: 'people', value: [Object] },\n",
       "     { key: 2, value: [Object] } ] }"
      ]
     },
     "execution_count": 23,
     "metadata": {},
     "output_type": "execute_result"
    }
   ],
   "source": [
    "// Origniaal sample for json-query\n",
    "\n",
    "var jsonQuery = require('json-query');\n",
    "var data = {\n",
    "  people: [\n",
    "    {name: 'Matt', country: 'TW'},\n",
    "    {name: 'Pete', country: 'AU'},\n",
    "    {name: 'Mikey', country: 'NZ'}\n",
    "  ]\n",
    "};\n",
    "\n",
    "var filtered = jsonQuery('people[country=NZ].name', {\n",
    "  data: data\n",
    "});\n",
    "\n",
    "filtered;"
   ]
  },
  {
   "cell_type": "code",
   "execution_count": 21,
   "metadata": {
    "collapsed": false
   },
   "outputs": [
    {
     "data": {
      "text/html": [
       "<pre>[ { name: &#39;Mikey&#39;, country: &#39;NZ&#39; } ]</pre>"
      ],
      "text/plain": [
       "[ { name: 'Mikey', country: 'NZ' } ]"
      ]
     },
     "execution_count": 21,
     "metadata": {},
     "output_type": "execute_result"
    }
   ],
   "source": [
    "// Sample for standard JS array method\n",
    "var filtered = data.people.filter(function(value) {\n",
    "    return value['country'] === 'NZ';\n",
    "});\n",
    "filtered;"
   ]
  },
  {
   "cell_type": "code",
   "execution_count": null,
   "metadata": {
    "collapsed": true
   },
   "outputs": [],
   "source": []
  }
 ],
 "metadata": {
  "kernelspec": {
   "display_name": "Javascript (Node.js)",
   "language": "javascript",
   "name": "javascript"
  },
  "language_info": {
   "name": "javascript",
   "version": "0.12.2"
  }
 },
 "nbformat": 4,
 "nbformat_minor": 0
}
